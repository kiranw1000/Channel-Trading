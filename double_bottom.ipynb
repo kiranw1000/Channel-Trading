{
 "cells": [
  {
   "cell_type": "code",
   "execution_count": 1,
   "metadata": {},
   "outputs": [],
   "source": [
    "from channel import *\n",
    "import tda \n",
    "client = tda.auth.client_from_token_file('kiran.json', config.TD_CLIENT_ID)\n",
    "import matplotlib.dates\n",
    "import sys,os\n",
    "import numpy as np"
   ]
  },
  {
   "cell_type": "markdown",
   "metadata": {},
   "source": [
    "Purpose:\n",
    "\n",
    "    Check a set of candles for a double bottom and return whether it is present.\n",
    "\n",
    "Arguments:\n",
    "\n",
    "    candles(pandas DataFrame) - DataFrame of the candles requested.\n",
    "\n",
    "    revlen(int) - Number of candles required to classify a trend as a reversal\n",
    "\n",
    "    variance(float) - The difference between the lows allowed as a percent of the first bottom.\n",
    "\n",
    "Returns:\n",
    "\n",
    "    result(bool) - True if the candles show a double bottomm pattern and false otherwise.\n",
    "\n",
    "    argDict(dict) - A dictionary of arguments containing the take profit and stop loss.\n",
    "\n",
    "    condCandles(pandas DataFrame) - The candles after the pattern has completed to check for the take profit or stop loss.    "
   ]
  },
  {
   "cell_type": "code",
   "execution_count": null,
   "metadata": {},
   "outputs": [],
   "source": [
    "def double_bottom_identifier(candles:pd.DataFrame,revlen:int,variance:float):\n",
    "    firstBottom = -1\n",
    "    secondBottom = -1\n",
    "    top = -1\n",
    "    pos = 0\n",
    "    numCandles = candles.shape[0]\n",
    "    argDict = {}\n",
    "    #Iterate through the candles until the chart reverses upwards the first time and holds for at least revlen candles\n",
    "    while pos<numCandles:\n",
    "        if candles.iloc[pos].low<min(candles.iloc[0:min(-1,pos-numCandles+1+revlen)].low):\n",
    "            firstBottom = candles.iloc[pos]\n",
    "            break\n",
    "        pos+=1\n",
    "    #Iterate through the remaining candles until the chart reverses downwards and holds for at least revlen candles\n",
    "    while pos<numCandles:\n",
    "        if candles.iloc[pos].high>max(candles.iloc[0:min(-1,pos-numCandles+1+revlen)].high):\n",
    "            top = candles.iloc[pos]\n",
    "            break\n",
    "        pos+=1\n",
    "    #Iterate through the remaining candles until the chart reverses a second time and holds for at least revlen candles\n",
    "    while pos<numCandles:\n",
    "        if candles.iloc[pos].low<min(candles.iloc[0:min(-1,pos-numCandles+1+revlen)].low):\n",
    "            secondBottom = candles.iloc[pos]\n",
    "            break\n",
    "        pos+=1\n",
    "    condCandles = candles.iloc[pos:]\n",
    "    if abs(firstBottom.low-secondBottom.low)/firstBottom<variance:\n",
    "        argDict[\"lowLine\"] = mean([firstBottom.low,secondBottom.low])\n",
    "        argDict[\"neckLine\"] = top.high\n",
    "        result = True\n",
    "    else:\n",
    "        result = False\n",
    "    return result,argDict,condCandles"
   ]
  },
  {
   "cell_type": "markdown",
   "metadata": {},
   "source": [
    "Purpose:\n",
    "\n",
    "    Given a DataFrame of candles and a dictionary with the neckLine and lowLine identify the take profit and stop loss and return 0 if the pattern hits the stop loss, 1 if it hits neither the take profit or stop loss, and 2 if the pattern hits the take profit.\n",
    "\n",
    "Arguments:\n",
    "\n",
    "    candles(DataFrame) - The candles to check for the take profit or stop loss.\n",
    "\n",
    "    argDict(dict) - A dictionary containing the neckLine and lowLine for the pattern.\n",
    "\n",
    "Returns:\n",
    "\n",
    "    ret(int) - 0,1, or 2 to indicate what the pattern hit.\n",
    "\n",
    "    argDict(dict) - Dictionary with the neckLine and lowLine and the buy and sell locations for the showGraphs function."
   ]
  },
  {
   "cell_type": "code",
   "execution_count": null,
   "metadata": {},
   "outputs": [],
   "source": [
    "def double_bottom_conditional(candles:pd.DataFrame, argDict:dict):\n",
    "    neckLine = argDict[\"neckLine\"]\n",
    "    lowLine = argDict[\"lowLine\"]\n",
    "    buy = -1\n",
    "    sell = -1\n",
    "    for candle in candles.iterrows():\n",
    "        if candle.close>neckLine:\n",
    "            buy = candle.datetime\n",
    "        if "
   ]
  }
 ],
 "metadata": {
  "kernelspec": {
   "display_name": "Python 3.10.0 ('p310')",
   "language": "python",
   "name": "python3"
  },
  "language_info": {
   "codemirror_mode": {
    "name": "ipython",
    "version": 3
   },
   "file_extension": ".py",
   "mimetype": "text/x-python",
   "name": "python",
   "nbconvert_exporter": "python",
   "pygments_lexer": "ipython3",
   "version": "3.10.0"
  },
  "orig_nbformat": 4,
  "vscode": {
   "interpreter": {
    "hash": "86ba12af8c92082f9a01e1b90654f6f416baf3db58f85b5ae7d4af2bb3430c23"
   }
  }
 },
 "nbformat": 4,
 "nbformat_minor": 2
}
