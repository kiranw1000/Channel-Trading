{
 "cells": [
  {
   "cell_type": "markdown",
   "metadata": {},
   "source": [
    "Purpose:\n",
    "\n",
    "    Given a function to identify a pattern, the candles to identify it on, and a conditional to determine whether it succeeded, return the amount of times it succeeded and optionally print the charts where the pattern is identified.\n",
    "\n",
    "Arguments:\n",
    "\n",
    "    patternIdentifier(function) - The function used to identify the pattern given the candles to run it on. Must return either True or False representing whether the pattern is present, a dictionary with information for the conditional, and the candles to run the conditional on.\n",
    "\n",
    "    identifierArgs(list) - The list of arguments to pass to the patternIdentifier function.\n",
    "\n",
    "    candles(pandas DataFrame) - The candles to search for the pattern on.\n",
    "\n",
    "    conditional(function) - The function used to test whether the pattern hit its stop loss, take profit, or neither given the candles to run it on. Return 0,1, or 2 to represent whether the pattern hit its stop loss, nothing, or its take profit respectively and a dictionary of arguments to pass to the showGraphs function.\n",
    "\n",
    "    showGraphs(function) - The function to show the graph if the pattern is present given the candles to show it on and a dictionary of arguments from the conditional."
   ]
  },
  {
   "cell_type": "code",
   "execution_count": 1,
   "metadata": {},
   "outputs": [],
   "source": [
    "import pandas as pd\n",
    "def check_strat(patternIdentifier:function,candles:pd.DataFrame,conditional:function,showGraphs:function,**kwargs):\n",
    "    #Initialize variables to count the wins, losses, and misses\n",
    "    wins = 0\n",
    "    losses = 0\n",
    "    misses = 0\n",
    "    #Run the identifier on the candles and assign the variables necessary for the conditional function to run\n",
    "    present,condArgDict,condCandles = patternIdentifier(candles,**kwargs)\n",
    "    if present:\n",
    "        wlm,graphArgDict = conditional(condCandles,condArgDict,**kwargs)\n",
    "        match wlm:\n",
    "            case 0: losses+=1\n",
    "            case 1: misses+=1\n",
    "            case 2: wins+=1\n",
    "        showGraphs(candles,graphArgDict,**kwargs)\n",
    "    return (wins,losses,misses)"
   ]
  }
 ],
 "metadata": {
  "kernelspec": {
   "display_name": "Python 3.10.0 ('p310')",
   "language": "python",
   "name": "python3"
  },
  "language_info": {
   "codemirror_mode": {
    "name": "ipython",
    "version": 3
   },
   "file_extension": ".py",
   "mimetype": "text/x-python",
   "name": "python",
   "nbconvert_exporter": "python",
   "pygments_lexer": "ipython3",
   "version": "3.10.0"
  },
  "orig_nbformat": 4,
  "vscode": {
   "interpreter": {
    "hash": "86ba12af8c92082f9a01e1b90654f6f416baf3db58f85b5ae7d4af2bb3430c23"
   }
  }
 },
 "nbformat": 4,
 "nbformat_minor": 2
}
